{
 "cells": [
  {
   "cell_type": "markdown",
   "id": "e2c2c4dc",
   "metadata": {},
   "source": [
    "# Project: Screen Time Analysis of Indian Kids\n",
    "\n",
    "In this project, we will perform the Exploratory Data Analysis (EDA) and hypothesis testing to investigate if screen time differs significantly by genders among Indian children."
   ]
  },
  {
   "cell_type": "code",
   "execution_count": 45,
   "id": "bc85ac78",
   "metadata": {},
   "outputs": [
    {
     "data": {
      "text/html": [
       "<div>\n",
       "<style scoped>\n",
       "    .dataframe tbody tr th:only-of-type {\n",
       "        vertical-align: middle;\n",
       "    }\n",
       "\n",
       "    .dataframe tbody tr th {\n",
       "        vertical-align: top;\n",
       "    }\n",
       "\n",
       "    .dataframe thead th {\n",
       "        text-align: right;\n",
       "    }\n",
       "</style>\n",
       "<table border=\"1\" class=\"dataframe\">\n",
       "  <thead>\n",
       "    <tr style=\"text-align: right;\">\n",
       "      <th></th>\n",
       "      <th>Age</th>\n",
       "      <th>Gender</th>\n",
       "      <th>Avg_Daily_Screen_Time_hr</th>\n",
       "      <th>Primary_Device</th>\n",
       "      <th>Exceeded_Recommended_Limit</th>\n",
       "      <th>Educational_to_Recreational_Ratio</th>\n",
       "      <th>Health_Impacts</th>\n",
       "      <th>Urban_or_Rural</th>\n",
       "    </tr>\n",
       "  </thead>\n",
       "  <tbody>\n",
       "    <tr>\n",
       "      <th>0</th>\n",
       "      <td>14</td>\n",
       "      <td>Male</td>\n",
       "      <td>3.99</td>\n",
       "      <td>Smartphone</td>\n",
       "      <td>True</td>\n",
       "      <td>0.42</td>\n",
       "      <td>Poor Sleep, Eye Strain</td>\n",
       "      <td>Urban</td>\n",
       "    </tr>\n",
       "    <tr>\n",
       "      <th>1</th>\n",
       "      <td>11</td>\n",
       "      <td>Female</td>\n",
       "      <td>4.61</td>\n",
       "      <td>Laptop</td>\n",
       "      <td>True</td>\n",
       "      <td>0.30</td>\n",
       "      <td>Poor Sleep</td>\n",
       "      <td>Urban</td>\n",
       "    </tr>\n",
       "    <tr>\n",
       "      <th>2</th>\n",
       "      <td>18</td>\n",
       "      <td>Female</td>\n",
       "      <td>3.73</td>\n",
       "      <td>TV</td>\n",
       "      <td>True</td>\n",
       "      <td>0.32</td>\n",
       "      <td>Poor Sleep</td>\n",
       "      <td>Urban</td>\n",
       "    </tr>\n",
       "    <tr>\n",
       "      <th>3</th>\n",
       "      <td>15</td>\n",
       "      <td>Female</td>\n",
       "      <td>1.21</td>\n",
       "      <td>Laptop</td>\n",
       "      <td>False</td>\n",
       "      <td>0.39</td>\n",
       "      <td>NaN</td>\n",
       "      <td>Urban</td>\n",
       "    </tr>\n",
       "    <tr>\n",
       "      <th>4</th>\n",
       "      <td>12</td>\n",
       "      <td>Female</td>\n",
       "      <td>5.89</td>\n",
       "      <td>Smartphone</td>\n",
       "      <td>True</td>\n",
       "      <td>0.49</td>\n",
       "      <td>Poor Sleep, Anxiety</td>\n",
       "      <td>Urban</td>\n",
       "    </tr>\n",
       "  </tbody>\n",
       "</table>\n",
       "</div>"
      ],
      "text/plain": [
       "   Age  Gender  Avg_Daily_Screen_Time_hr Primary_Device  \\\n",
       "0   14    Male                      3.99     Smartphone   \n",
       "1   11  Female                      4.61         Laptop   \n",
       "2   18  Female                      3.73             TV   \n",
       "3   15  Female                      1.21         Laptop   \n",
       "4   12  Female                      5.89     Smartphone   \n",
       "\n",
       "   Exceeded_Recommended_Limit  Educational_to_Recreational_Ratio  \\\n",
       "0                        True                               0.42   \n",
       "1                        True                               0.30   \n",
       "2                        True                               0.32   \n",
       "3                       False                               0.39   \n",
       "4                        True                               0.49   \n",
       "\n",
       "           Health_Impacts Urban_or_Rural  \n",
       "0  Poor Sleep, Eye Strain          Urban  \n",
       "1              Poor Sleep          Urban  \n",
       "2              Poor Sleep          Urban  \n",
       "3                     NaN          Urban  \n",
       "4     Poor Sleep, Anxiety          Urban  "
      ]
     },
     "execution_count": 45,
     "metadata": {},
     "output_type": "execute_result"
    }
   ],
   "source": [
    "import pandas as pd\n",
    "import matplotlib.pyplot as plt\n",
    "import seaborn as sns\n",
    "from scipy import stats\n",
    "from pandas.api.types import is_numeric_dtype\n",
    "\n",
    "df = pd.read_csv(r\"C:\\Users\\shrey\\Documents\\Indian_Kids_Screen_Time.csv\")\n",
    "df.head()"
   ]
  },
  {
   "cell_type": "markdown",
   "id": "51fb1e62",
   "metadata": {},
   "source": [
    "## Descriptive Statistics"
   ]
  },
  {
   "cell_type": "code",
   "execution_count": 48,
   "id": "74ae0cce",
   "metadata": {},
   "outputs": [
    {
     "data": {
      "text/html": [
       "<div>\n",
       "<style scoped>\n",
       "    .dataframe tbody tr th:only-of-type {\n",
       "        vertical-align: middle;\n",
       "    }\n",
       "\n",
       "    .dataframe tbody tr th {\n",
       "        vertical-align: top;\n",
       "    }\n",
       "\n",
       "    .dataframe thead th {\n",
       "        text-align: right;\n",
       "    }\n",
       "</style>\n",
       "<table border=\"1\" class=\"dataframe\">\n",
       "  <thead>\n",
       "    <tr style=\"text-align: right;\">\n",
       "      <th></th>\n",
       "      <th>Age</th>\n",
       "      <th>Avg_Daily_Screen_Time_hr</th>\n",
       "      <th>Educational_to_Recreational_Ratio</th>\n",
       "    </tr>\n",
       "  </thead>\n",
       "  <tbody>\n",
       "    <tr>\n",
       "      <th>count</th>\n",
       "      <td>9712.000000</td>\n",
       "      <td>9712.000000</td>\n",
       "      <td>9712.000000</td>\n",
       "    </tr>\n",
       "    <tr>\n",
       "      <th>mean</th>\n",
       "      <td>12.979201</td>\n",
       "      <td>4.352837</td>\n",
       "      <td>0.427226</td>\n",
       "    </tr>\n",
       "    <tr>\n",
       "      <th>std</th>\n",
       "      <td>3.162437</td>\n",
       "      <td>1.718232</td>\n",
       "      <td>0.073221</td>\n",
       "    </tr>\n",
       "    <tr>\n",
       "      <th>min</th>\n",
       "      <td>8.000000</td>\n",
       "      <td>0.000000</td>\n",
       "      <td>0.300000</td>\n",
       "    </tr>\n",
       "    <tr>\n",
       "      <th>25%</th>\n",
       "      <td>10.000000</td>\n",
       "      <td>3.410000</td>\n",
       "      <td>0.370000</td>\n",
       "    </tr>\n",
       "    <tr>\n",
       "      <th>50%</th>\n",
       "      <td>13.000000</td>\n",
       "      <td>4.440000</td>\n",
       "      <td>0.430000</td>\n",
       "    </tr>\n",
       "    <tr>\n",
       "      <th>75%</th>\n",
       "      <td>16.000000</td>\n",
       "      <td>5.380000</td>\n",
       "      <td>0.480000</td>\n",
       "    </tr>\n",
       "    <tr>\n",
       "      <th>max</th>\n",
       "      <td>18.000000</td>\n",
       "      <td>13.890000</td>\n",
       "      <td>0.600000</td>\n",
       "    </tr>\n",
       "  </tbody>\n",
       "</table>\n",
       "</div>"
      ],
      "text/plain": [
       "               Age  Avg_Daily_Screen_Time_hr  \\\n",
       "count  9712.000000               9712.000000   \n",
       "mean     12.979201                  4.352837   \n",
       "std       3.162437                  1.718232   \n",
       "min       8.000000                  0.000000   \n",
       "25%      10.000000                  3.410000   \n",
       "50%      13.000000                  4.440000   \n",
       "75%      16.000000                  5.380000   \n",
       "max      18.000000                 13.890000   \n",
       "\n",
       "       Educational_to_Recreational_Ratio  \n",
       "count                        9712.000000  \n",
       "mean                            0.427226  \n",
       "std                             0.073221  \n",
       "min                             0.300000  \n",
       "25%                             0.370000  \n",
       "50%                             0.430000  \n",
       "75%                             0.480000  \n",
       "max                             0.600000  "
      ]
     },
     "execution_count": 48,
     "metadata": {},
     "output_type": "execute_result"
    }
   ],
   "source": [
    "desc_stats = df.describe()\n",
    "desc_stats"
   ]
  },
  {
   "cell_type": "markdown",
   "id": "75cd5b26",
   "metadata": {},
   "source": [
    "## Gender Distribution"
   ]
  },
  {
   "cell_type": "code",
   "execution_count": 51,
   "id": "92d32ec9",
   "metadata": {},
   "outputs": [
    {
     "data": {
      "text/plain": [
       "Gender\n",
       "Male      4942\n",
       "Female    4770\n",
       "Name: count, dtype: int64"
      ]
     },
     "execution_count": 51,
     "metadata": {},
     "output_type": "execute_result"
    }
   ],
   "source": [
    "df['Gender'].value_counts()"
   ]
  },
  {
   "cell_type": "markdown",
   "id": "ab65ee38",
   "metadata": {},
   "source": [
    "## Distribution of Average Daily Screen Time"
   ]
  },
  {
   "cell_type": "code",
   "execution_count": 54,
   "id": "8e05b5d9",
   "metadata": {
    "scrolled": true
   },
   "outputs": [
    {
     "data": {
      "image/png": "[encoded data removed]",
      "text/plain": [
       "<Figure size 1000x600 with 1 Axes>"
      ]
     },
     "metadata": {},
     "output_type": "display_data"
    }
   ],
   "source": [
    "plt.figure(figsize=(10, 6))\n",
    "sns.histplot(df[\"Avg_Daily_Screen_Time_hr\"], kde=True, bins=20)\n",
    "plt.title(\"Distribution of Average Daily Screen Time (hr)\")\n",
    "plt.xlabel(\"Avg Daily Screen Time (hr)\")\n",
    "plt.ylabel(\"Frequency\")\n",
    "plt.show()"
   ]
  },
  {
   "cell_type": "markdown",
   "id": "e82e8c80-0d85-4e61-aaea-8ad912302af7",
   "metadata": {},
   "source": [
    "####  As seen form the histogram.\n",
    "It shows how many hours kids are spending on screens each day.\n",
    "Most of the kids spend around 4 to 6 hours daily.\n",
    "The shape is slightly skewed to the right, meaning a few kids are spending a lot more time on screens than the rest.\n",
    "This helps us understand what the usual screen time looks like and how spread out the values are."
   ]
  },
  {
   "cell_type": "code",
   "execution_count": null,
   "id": "d6d31dcc-6bd8-4538-acae-143975315c4f",
   "metadata": {},
   "outputs": [],
   "source": []
  },
  {
   "cell_type": "markdown",
   "id": "0a2a328c",
   "metadata": {},
   "source": [
    "## Screen Time Distribution by Gender"
   ]
  },
  {
   "cell_type": "code",
   "execution_count": 57,
   "id": "bec7ea65",
   "metadata": {
    "scrolled": true
   },
   "outputs": [
    {
     "name": "stderr",
     "output_type": "stream",
     "text": [
      "C:\\Users\\shrey\\AppData\\Local\\Temp\\ipykernel_1616\\2929715565.py:2: FutureWarning: \n",
      "\n",
      "Passing `palette` without assigning `hue` is deprecated and will be removed in v0.14.0. Assign the `x` variable to `hue` and set `legend=False` for the same effect.\n",
      "\n",
      "  sns.boxplot(x='Gender', y='Avg_Daily_Screen_Time_hr', data=df, palette='pastel')\n"
     ]
    },
    {
     "data": {
      "image/png": "[encoded data removed]",
      "text/plain": [
       "<Figure size 800x500 with 1 Axes>"
      ]
     },
     "metadata": {},
     "output_type": "display_data"
    }
   ],
   "source": [
    "plt.figure(figsize=(8, 5))\n",
    "sns.boxplot(x='Gender', y='Avg_Daily_Screen_Time_hr', data=df, palette='pastel')\n",
    "plt.title(\"Screen Time Distribution by Gender\")\n",
    "plt.xlabel(\"Gender\")\n",
    "plt.ylabel(\"Avg Daily Screen Time (hr)\")\n",
    "plt.show()"
   ]
  },
  {
   "cell_type": "markdown",
   "id": "1af8db81-5a0c-49a0-9aa4-754f2f7d4050",
   "metadata": {},
   "source": [
    "#### Boxplot\n",
    "It helps us compare screen time between boys and girls.\n",
    "We can see that the median screen time (the line inside the box) is almost the same for both genders.\n",
    "The spread of values is also similar, and there are some outliers (dots) which are kids who spend much more or less time than others."
   ]
  },
  {
   "cell_type": "markdown",
   "id": "99f48083",
   "metadata": {},
   "source": [
    "## Hypothesis Testing: Does Screen Time Differ by Gender?"
   ]
  },
  {
   "cell_type": "code",
   "execution_count": 62,
   "id": "b8c09730",
   "metadata": {},
   "outputs": [
    {
     "name": "stdout",
     "output_type": "stream",
     "text": [
      "Average screen time for boys is: 4.38 hours per day.\n",
      "Average screen time for girls is: 4.33 hours per day.\n",
      "The t-statistic from the test is: 1.454\n",
      "The p-value from the test is: 0.146\n",
      "Result: Fail to reject the null hypothesis. No significant difference.\n"
     ]
    }
   ],
   "source": [
    "male_screen_time = df[df[\"Gender\"] == \"Male\"][\"Avg_Daily_Screen_Time_hr\"]\n",
    "female_screen_time = df[df[\"Gender\"] == \"Female\"][\"Avg_Daily_Screen_Time_hr\"]\n",
    "\n",
    "t_stat, p_value = stats.ttest_ind(male_screen_time, female_screen_time, equal_var=False)\n",
    "\n",
    "mean_male = male_screen_time.mean()\n",
    "mean_female = female_screen_time.mean()\n",
    "\n",
    "print(\"Average screen time for boys is:\", round(mean_male, 2), \"hours per day.\")\n",
    "print(\"Average screen time for girls is:\", round(mean_female, 2), \"hours per day.\")\n",
    "print(\"The t-statistic from the test is:\", round(t_stat, 4))\n",
    "print(\"The p-value from the test is:\", round(p_value, 4))\n",
    "\n",
    "if p_value < 0.05:\n",
    "    print(\"Result: Reject the null hypothesis. Significant difference exists.\")\n",
    "else:\n",
    "    print(\"Result: Fail to reject the null hypothesis. No significant difference.\")"
   ]
  },
  {
   "cell_type": "markdown",
   "id": "4471ddfd",
   "metadata": {},
   "source": [
    "## Conclusion\n",
    "\n",
    "Based on the analysis and hypothesis test, there is **no statistically significant difference** in screen time between boys and girls in this dataset (p > 0.05)."
   ]
  },
  {
   "cell_type": "code",
   "execution_count": null,
   "id": "2bbcf44b-62d9-425d-bca9-c6b3c52630d2",
   "metadata": {},
   "outputs": [],
   "source": []
  }
 ],
 "metadata": {
  "kernelspec": {
   "display_name": "Python [conda env:base] *",
   "language": "python",
   "name": "conda-base-py"
  },
  "language_info": {
   "codemirror_mode": {
    "name": "ipython",
    "version": 3
   },
   "file_extension": ".py",
   "mimetype": "text/x-python",
   "name": "python",
   "nbconvert_exporter": "python",
   "pygments_lexer": "ipython3",
   "version": "3.12.7"
  }
 },
 "nbformat": 4,
 "nbformat_minor": 5
}
